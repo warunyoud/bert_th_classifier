{
 "cells": [
  {
   "cell_type": "markdown",
   "metadata": {},
   "source": [
    "# Wongnai Review"
   ]
  },
  {
   "cell_type": "markdown",
   "metadata": {},
   "source": [
    "## Reading and Preprocessing"
   ]
  },
  {
   "cell_type": "code",
   "execution_count": 58,
   "metadata": {},
   "outputs": [
    {
     "data": {
      "text/plain": [
       "4    0.469282\n",
       "3    0.304328\n",
       "5    0.169880\n",
       "2    0.046133\n",
       "1    0.010377\n",
       "Name: rating, dtype: float64"
      ]
     },
     "execution_count": 58,
     "metadata": {},
     "output_type": "execute_result"
    }
   ],
   "source": [
    "import pandas as pd\n",
    "\n",
    "train_df = pd.read_csv(\"data/wongnai_review/w_review_train.csv\", sep=\";\", header=None).drop_duplicates()\n",
    "train_df.columns = [\"review\", \"rating\"]\n",
    "test_df = pd.read_csv(\"data/wongnai_review/test_file.csv\", sep=\";\")\n",
    "\n",
    "train_df.rating.value_counts() / train_df.shape[0]"
   ]
  },
  {
   "cell_type": "code",
   "execution_count": 59,
   "metadata": {},
   "outputs": [
    {
     "data": {
      "text/plain": [
       "4    0.392365\n",
       "3    0.254448\n",
       "5    0.142036\n",
       "2    0.115715\n",
       "1    0.095436\n",
       "Name: rating, dtype: float64"
      ]
     },
     "execution_count": 59,
     "metadata": {},
     "output_type": "execute_result"
    }
   ],
   "source": [
    "two_df = pd.concat([train_df[train_df.rating==2].copy() for i in range(2)]).reset_index(drop=True)\n",
    "one_df = pd.concat([train_df[train_df.rating==1].copy() for i in range(10)]).reset_index(drop=True)\n",
    "train_bal = pd.concat([train_df, one_df, two_df]).reset_index(drop=True)\n",
    "train_bal.rating.value_counts() / df.shape[0]"
   ]
  },
  {
   "cell_type": "code",
   "execution_count": 60,
   "metadata": {},
   "outputs": [
    {
     "data": {
      "application/vnd.jupyter.widget-view+json": {
       "model_id": "2d98f9c1eceb4d6dac3ed286dca15eb4",
       "version_major": 2,
       "version_minor": 0
      },
      "text/plain": [
       "HBox(children=(IntProgress(value=0, max=47833), HTML(value='')))"
      ]
     },
     "metadata": {},
     "output_type": "display_data"
    },
    {
     "name": "stdout",
     "output_type": "stream",
     "text": [
      "\n"
     ]
    },
    {
     "data": {
      "application/vnd.jupyter.widget-view+json": {
       "model_id": "542d8c4acbb54509abd4eff326cc5bf7",
       "version_major": 2,
       "version_minor": 0
      },
      "text/plain": [
       "HBox(children=(IntProgress(value=0, max=6203), HTML(value='')))"
      ]
     },
     "metadata": {},
     "output_type": "display_data"
    },
    {
     "name": "stdout",
     "output_type": "stream",
     "text": [
      "\n"
     ]
    }
   ],
   "source": [
    "from tqdm import tqdm_notebook\n",
    "from pythainlp import word_tokenize\n",
    "import string, re\n",
    "\n",
    "def process_text(text):\n",
    "    nopunc = [char for char in text if char not in string.punctuation]\n",
    "    nopunc = \"\".join(nopunc)\n",
    "    return [word for word in word_tokenize(nopunc) if word and not re.search(pattern=r\"\\s+\", string=word)]\n",
    "\n",
    "train_splits = []\n",
    "test_splits = []\n",
    "for i in tqdm_notebook(range(train_bal.shape[0])):\n",
    "    train_splits.append(\" \".join(process_text(train_bal[\"review\"][i])))\n",
    "\n",
    "for i in tqdm_notebook(range(test_df.shape[0])):\n",
    "    test_splits.append(\" \".join(process_text(test_df[\"review\"][i])))"
   ]
  },
  {
   "cell_type": "code",
   "execution_count": 61,
   "metadata": {},
   "outputs": [
    {
     "data": {
      "application/vnd.jupyter.widget-view+json": {
       "model_id": "4002157a3616499497abf760f1d7620c",
       "version_major": 2,
       "version_minor": 0
      },
      "text/plain": [
       "HBox(children=(IntProgress(value=0, max=47833), HTML(value='')))"
      ]
     },
     "metadata": {},
     "output_type": "display_data"
    },
    {
     "name": "stdout",
     "output_type": "stream",
     "text": [
      "\n"
     ]
    },
    {
     "data": {
      "application/vnd.jupyter.widget-view+json": {
       "model_id": "d6b3629426b54164b09fe1f18d71e22f",
       "version_major": 2,
       "version_minor": 0
      },
      "text/plain": [
       "HBox(children=(IntProgress(value=0, max=6203), HTML(value='')))"
      ]
     },
     "metadata": {},
     "output_type": "display_data"
    },
    {
     "name": "stdout",
     "output_type": "stream",
     "text": [
      "\n"
     ]
    }
   ],
   "source": [
    "def write_to_file(filename, review, rating=None):\n",
    "    output = []\n",
    "    if rating is None:\n",
    "        output.append(\"reviewID;review\")\n",
    "        for i in tqdm_notebook(range(len(review))):\n",
    "            output.append(f\"{i + 1};{review[i]}\")\n",
    "    else:\n",
    "        for i in tqdm_notebook(range(len(review))):\n",
    "            output.append(f\"{review[i]};{rating[i]}\")\n",
    "    with open(filename, \"w+\") as f:\n",
    "        f.write(\"\\n\".join(output))\n",
    "    f.close()\n",
    "\n",
    "write_to_file(\"data/wongnai_post/w_review_train.csv\", train_splits, train_bal[\"rating\"])\n",
    "write_to_file(\"data/wongnai_post/test_file.csv\", test_splits)"
   ]
  },
  {
   "cell_type": "markdown",
   "metadata": {},
   "source": [
    "## Training and Prediction"
   ]
  },
  {
   "cell_type": "markdown",
   "metadata": {},
   "source": [
    "### BERT-Thai"
   ]
  },
  {
   "cell_type": "code",
   "execution_count": null,
   "metadata": {},
   "outputs": [],
   "source": []
  },
  {
   "cell_type": "markdown",
   "metadata": {},
   "source": [
    "### BERT-Multilingual Cased"
   ]
  },
  {
   "cell_type": "code",
   "execution_count": null,
   "metadata": {},
   "outputs": [],
   "source": []
  },
  {
   "cell_type": "markdown",
   "metadata": {},
   "source": [
    "## Submission Preperation"
   ]
  },
  {
   "cell_type": "code",
   "execution_count": 2,
   "metadata": {},
   "outputs": [
    {
     "name": "stderr",
     "output_type": "stream",
     "text": [
      "/Users/boom/anaconda3/lib/python3.7/site-packages/numpy/core/fromnumeric.py:51: FutureWarning: 'argmax' is deprecated, use 'idxmax' instead. The behavior of 'argmax'\n",
      "will be corrected to return the positional maximum in the future.\n",
      "Use 'series.values.argmax' to get the position of the maximum now.\n",
      "  return getattr(obj, method)(*args, **kwds)\n"
     ]
    }
   ],
   "source": [
    "import numpy as np\n",
    "import pandas as pd\n",
    "from tqdm import tqdm_notebook\n",
    "test_probs = pd.read_csv(\"output/wongnai_th/test_results.tsv\", sep=\"\\t\", header=None)\n",
    "prediction = test_probs.apply(np.argmax, axis=1) + 1"
   ]
  },
  {
   "cell_type": "code",
   "execution_count": 3,
   "metadata": {},
   "outputs": [
    {
     "data": {
      "application/vnd.jupyter.widget-view+json": {
       "model_id": "ab7d994d92b04f1cb512054a6c69b28a",
       "version_major": 2,
       "version_minor": 0
      },
      "text/plain": [
       "HBox(children=(IntProgress(value=0, max=6203), HTML(value='')))"
      ]
     },
     "metadata": {},
     "output_type": "display_data"
    },
    {
     "name": "stdout",
     "output_type": "stream",
     "text": [
      "\n"
     ]
    }
   ],
   "source": [
    "output = []\n",
    "output.append(\"reviewID,rating\")\n",
    "for i in tqdm_notebook(range(len(prediction))):\n",
    "    output.append(f\"{i + 1},{prediction[i]}\")\n",
    "with open(\"output/wongnai_th/submission.csv\", \"w+\") as f:\n",
    "    f.write(\"\\n\".join(output))\n",
    "f.close()"
   ]
  },
  {
   "cell_type": "code",
   "execution_count": null,
   "metadata": {},
   "outputs": [],
   "source": []
  }
 ],
 "metadata": {
  "kernelspec": {
   "display_name": "bert-thai",
   "language": "python",
   "name": "bert-thai"
  },
  "language_info": {
   "codemirror_mode": {
    "name": "ipython",
    "version": 3
   },
   "file_extension": ".py",
   "mimetype": "text/x-python",
   "name": "python",
   "nbconvert_exporter": "python",
   "pygments_lexer": "ipython3",
   "version": "3.7.1"
  }
 },
 "nbformat": 4,
 "nbformat_minor": 2
}
